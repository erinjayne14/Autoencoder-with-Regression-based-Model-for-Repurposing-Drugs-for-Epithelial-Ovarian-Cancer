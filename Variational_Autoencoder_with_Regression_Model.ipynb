{
  "cells": [
    {
      "cell_type": "markdown",
      "metadata": {
        "id": "9r0PbGYvyD6Z"
      },
      "source": [
        "# Importing Data"
      ]
    },
    {
      "cell_type": "code",
      "execution_count": null,
      "metadata": {
        "id": "B1NrJmdGNgHY"
      },
      "outputs": [],
      "source": [
        "import pandas as pd\n",
        "\n",
        "# Read data from CSV\n",
        "data = pd.read_csv('output_df_pik3ca_1.csv')\n",
        "\n",
        "# Assuming the CSV has columns 'SMILES' and 'pIC50'\n",
        "smiles = data['smiles'].values\n",
        "pIC50 = data['pIC50'].values\n"
      ]
    },
    {
      "cell_type": "markdown",
      "metadata": {
        "id": "Z6LldoJjyG_s"
      },
      "source": [
        "# FIltering length of SMILES"
      ]
    },
    {
      "cell_type": "code",
      "execution_count": null,
      "metadata": {
        "id": "qQYHssAx_P1l"
      },
      "outputs": [],
      "source": [
        "import pandas as pd\n",
        "\n",
        "# Assuming your dataframe is named 'data' and the column containing SMILES is named 'smiles'\n",
        "\n",
        "# Sample DataFrame\n",
        "# data = pd.DataFrame({'smiles': ['C'*100, 'C'*120, 'C'*90]})\n",
        "\n",
        "# Filtering rows based on SMILES string length and replacing original dataframe\n",
        "data = data[data['smiles'].apply(len) <= 110]\n",
        "\n",
        "# Reset index after filtering\n",
        "data.reset_index(drop=True, inplace=True)\n",
        "\n",
        "# Print or use the filtered dataframe as required\n",
        "print(data)\n"
      ]
    },
    {
      "cell_type": "markdown",
      "metadata": {
        "id": "-GzYveGlprY0"
      },
      "source": [
        "# Variational Autoencoder Model"
      ]
    },
    {
      "cell_type": "markdown",
      "metadata": {
        "id": "AkS-LNR-RSjY"
      },
      "source": [
        "## Preprocessing the data for the VAE model\n",
        "\n",
        "\n"
      ]
    },
    {
      "cell_type": "markdown",
      "metadata": {
        "id": "2dTR-Jxunwlu"
      },
      "source": [
        "Import the necessary libraries.\n",
        "\n",
        "Load your dataset, which includes SMILES strings and corresponding pIC50 values.\n",
        "\n",
        "Tokenize, pad, and encode the SMILES strings.\n",
        "\n",
        "Normalize the pIC50 values to have zero mean and unit variance."
      ]
    },
    {
      "cell_type": "code",
      "execution_count": null,
      "metadata": {
        "id": "Nc3nvqsRRUjS"
      },
      "outputs": [],
      "source": [
        "import numpy as np\n",
        "from tensorflow.keras.models import Model\n",
        "from tensorflow.keras.preprocessing.text import Tokenizer\n",
        "from tensorflow.keras.preprocessing.sequence import pad_sequences\n",
        "from sklearn.model_selection import train_test_split\n",
        "from sklearn.preprocessing import StandardScaler"
      ]
    },
    {
      "cell_type": "code",
      "execution_count": null,
      "metadata": {
        "id": "riNt8dprthEA"
      },
      "outputs": [],
      "source": [
        "smiles_data = data[\"smiles\"]\n",
        "pic50_data = data[\"pIC50\"]"
      ]
    },
    {
      "cell_type": "code",
      "execution_count": null,
      "metadata": {
        "id": "mdEB15AHQIzj"
      },
      "outputs": [],
      "source": [
        "# Define a dictionary to map two-letter symbols and elements to single characters\n",
        "element_mapping = {\n",
        "    \"Ac\": \"a\",\n",
        "    \"Ag\": \"b\",\n",
        "    \"Al\": \"l\",\n",
        "    \"Au\": \"e\",\n",
        "    \"Ba\": \"f\",\n",
        "    \"Be\": \"g\",\n",
        "    \"Bi\": \"h\",\n",
        "    \"Bk\": \"i\",\n",
        "    \"Br\": \"j\",\n",
        "    \"Ca\": \"k\",\n",
        "    \"Ce\": \"m\",\n",
        "    \"Cl\": \"n\",\n",
        "    \"Cr\": \"p\",\n",
        "    \"Cu\": \"r\",\n",
        "    \"Fe\": \"q\",\n",
        "    \"Ga\": \"t\",\n",
        "    \"Gd\": \"u\",\n",
        "    \"Ge\": \"v\",\n",
        "    \"Hf\": \"x\",\n",
        "    \"In\": \"A\",\n",
        "    \"Kr\": \":\",\n",
        "    \"La\": \";\",\n",
        "    \"Li\": \"D\",\n",
        "    \"Lu\": \"E\",\n",
        "    \"Mg\": \"d\",\n",
        "    \"Mn\": \"G\",\n",
        "    \"Mo\": \",\",\n",
        "    \"Nb\": \"!\",\n",
        "    \"Nd\": \"J\",\n",
        "    \"Ni\": \"?\",\n",
        "    \"Pd\": \"*\",\n",
        "    \"Pt\": \"&\",\n",
        "    \"Ra\": \"P\",\n",
        "    \"Rb\": \"Q\",\n",
        "    \"Re\": \"R\",\n",
        "    \"Ru\": \"~\",\n",
        "    \"Sb\": \"T\",\n",
        "    \"Se\": \"{\",\n",
        "    \"Si\": \"V\",\n",
        "    \"Sm\": \"}\",\n",
        "    \"Sr\": \"X\",\n",
        "    \"Ta\": \"z\",\n",
        "    \"Tc\": \"Z\",\n",
        "    \"Te\": \"L\",\n",
        "    \"Ti\": \"_\",\n",
        "    \"Tl\": \"^\",\n",
        "    \"Zn\": \"₱\",\n",
        "    \"Zr\": \"€\",\n",
        "    \"@@\": \"$\"\n",
        "}"
      ]
    },
    {
      "cell_type": "code",
      "execution_count": null,
      "metadata": {
        "id": "zeiJ8VQmtwB4"
      },
      "outputs": [],
      "source": [
        "# Replace using the dictionary\n",
        "smiles_data = [\"\".join(element_mapping.get(smiles[i:i+2], smiles[i]) for i in range(0, len(smiles), 2)) for smiles in smiles_data.tolist()]"
      ]
    },
    {
      "cell_type": "code",
      "execution_count": null,
      "metadata": {
        "id": "eqge2CiTRi_A"
      },
      "outputs": [],
      "source": [
        "# Tokenize the SMILES strings and replace using the dictionary\n",
        "tokenizer = Tokenizer(char_level=True)\n",
        "tokenizer.fit_on_texts(smiles_data)\n",
        "sequences = tokenizer.texts_to_sequences(smiles_data)"
      ]
    },
    {
      "cell_type": "code",
      "execution_count": null,
      "metadata": {
        "id": "d9kNv-dYQc-Q"
      },
      "outputs": [],
      "source": [
        "# Number of unique tokens\n",
        "num_tokens = len(tokenizer.word_index)\n",
        "\n",
        "# Maximum token length\n",
        "max_token_length = max(len(seq) for seq in sequences)\n",
        "\n",
        "print(\"Number of unique tokens:\", num_tokens)\n",
        "print(\"Maximum token length:\", max_token_length)"
      ]
    },
    {
      "cell_type": "code",
      "execution_count": null,
      "metadata": {
        "id": "Svg8-lRyRmpX"
      },
      "outputs": [],
      "source": [
        "# Pad sequences to the same length\n",
        "max_length = max(len(seq) for seq in sequences)\n",
        "padded_sequences = pad_sequences(sequences, maxlen=max_length, padding='post')"
      ]
    },
    {
      "cell_type": "code",
      "execution_count": null,
      "metadata": {
        "id": "k0m0_mlUtsSB"
      },
      "outputs": [],
      "source": [
        "# Convert to numpy arrays\n",
        "X = padded_sequences\n",
        "y = np.array(pic50_data)  # Assuming pic50_data is already a numpy arra"
      ]
    },
    {
      "cell_type": "code",
      "execution_count": null,
      "metadata": {
        "id": "rqM83qSCs9_R"
      },
      "outputs": [],
      "source": [
        "# Normalize pIC50 values using standard scaling (z-score normalization)\n",
        "pic50_scaler = StandardScaler()\n",
        "y = pic50_scaler.fit_transform(y.reshape(-1, 1)).flatten()"
      ]
    },
    {
      "cell_type": "code",
      "execution_count": null,
      "metadata": {
        "id": "-RExhqc4y11A"
      },
      "outputs": [],
      "source": [
        "# Split your data into training and test sets\n",
        "X_train, X_test, y_train, y_test = train_test_split(X, y, test_size=0.2, random_state=42)"
      ]
    },
    {
      "cell_type": "markdown",
      "metadata": {
        "id": "3B4uE7fiOS9R"
      },
      "source": [
        "## Build the VAE model"
      ]
    },
    {
      "cell_type": "code",
      "execution_count": null,
      "metadata": {
        "id": "bQkX2sUaR7Vl"
      },
      "outputs": [],
      "source": [
        "def compute_reconstruction_accuracy(inputs, outputs):\n",
        "    # Ensure the data types are the same\n",
        "    inputs = tf.cast(inputs, tf.int64)\n",
        "    # Find the indices of the maximum values along the last dimension\n",
        "    predicted_sequences = tf.argmax(outputs, axis=-1, output_type=tf.int64)\n",
        "    # Compare predicted sequences with the original inputs\n",
        "    matches = tf.cast(tf.equal(inputs, predicted_sequences), tf.float32)\n",
        "    # Calculate the accuracy\n",
        "    accuracy = tf.reduce_mean(matches)\n",
        "    return accuracy"
      ]
    },
    {
      "cell_type": "code",
      "execution_count": null,
      "metadata": {
        "id": "E9QxLMTPRKPc"
      },
      "outputs": [],
      "source": [
        "import tensorflow as tf\n",
        "from tensorflow.keras.layers import Input, Dense, Lambda, Embedding, LSTM, RepeatVector, TimeDistributed\n",
        "from tensorflow.keras.models import Model\n",
        "from tensorflow.keras import backend as K\n",
        "from tensorflow.keras.losses import sparse_categorical_crossentropy\n",
        "from tensorflow.keras.optimizers import Adam\n",
        "from sklearn.model_selection import train_test_split\n",
        "from tensorflow.keras.callbacks import EarlyStopping\n",
        "\n",
        "# Hyperparameters\n",
        "latent_dim = 32\n",
        "input_dim = X_train.shape[1]\n",
        "vocab_size = len(tokenizer.word_index) + 1\n",
        "epochs = 200\n",
        "batch_size = 32\n",
        "\n",
        "# Encoder\n",
        "inputs = Input(shape=(input_dim,))\n",
        "x = Embedding(input_dim=vocab_size, output_dim=64, input_length=input_dim)(inputs)\n",
        "x = LSTM(256)(x)\n",
        "z_mean = Dense(latent_dim)(x)\n",
        "z_log_var = Dense(latent_dim)(x)\n",
        "\n",
        "def sampling(args):\n",
        "    z_mean, z_log_var = args\n",
        "    epsilon = K.random_normal(shape=(K.shape(z_mean)[0], latent_dim), mean=0., stddev=1.0)\n",
        "    return z_mean + K.exp(z_log_var / 2) * epsilon\n",
        "\n",
        "z = Lambda(sampling, output_shape=(latent_dim,))([z_mean, z_log_var])\n",
        "\n",
        "# Decoder\n",
        "decoder_inputs = Input(shape=(latent_dim,))\n",
        "x = RepeatVector(input_dim)(decoder_inputs)\n",
        "x = LSTM(256, return_sequences=True)(x)\n",
        "outputs = TimeDistributed(Dense(vocab_size, activation='softmax'))(x)\n",
        "\n",
        "encoder = Model(inputs, [z_mean, z_log_var, z], name='encoder')\n",
        "decoder = Model(decoder_inputs, outputs, name='decoder')\n",
        "\n",
        "# VAE Model\n",
        "outputs = decoder(encoder(inputs)[2])\n",
        "vae = Model(inputs, outputs, name='vae')\n",
        "\n",
        "# Optimizer\n",
        "optimizer = Adam()"
      ]
    },
    {
      "cell_type": "code",
      "execution_count": null,
      "metadata": {
        "id": "n4WO8t-UyImd"
      },
      "outputs": [],
      "source": [
        "# Define the loss function\n",
        "def compute_loss(inputs, outputs, z_mean, z_log_var):\n",
        "    reconstruction_loss = tf.reduce_mean(\n",
        "        tf.reduce_sum(\n",
        "            sparse_categorical_crossentropy(inputs, outputs), axis=1\n",
        "        )\n",
        "    )\n",
        "    kl_loss = -0.5 * tf.reduce_mean(\n",
        "        1 + z_log_var - tf.square(z_mean) - tf.exp(z_log_var)\n",
        "    )\n",
        "    total_loss = reconstruction_loss + kl_loss\n",
        "    return total_loss, reconstruction_loss, kl_loss\n",
        "\n",
        "# Define the accuracy computation function\n",
        "def compute_reconstruction_accuracy(inputs, outputs):\n",
        "    inputs = tf.cast(inputs, tf.int64)\n",
        "    predicted_sequences = tf.argmax(outputs, axis=-1, output_type=tf.int64)\n",
        "    matches = tf.cast(tf.equal(inputs, predicted_sequences), tf.float32)\n",
        "    accuracy = tf.reduce_mean(matches)\n",
        "    return accuracy\n",
        "\n",
        "# Custom training loop\n",
        "train_dataset = tf.data.Dataset.from_tensor_slices((X_train, X_train)).shuffle(buffer_size=1024).batch(batch_size)\n",
        "test_dataset = tf.data.Dataset.from_tensor_slices((X_test, X_test)).batch(batch_size)\n",
        "\n",
        "# Compile the model\n",
        "optimizer = tf.keras.optimizers.Adam()\n",
        "vae.compile(optimizer=optimizer, loss=sparse_categorical_crossentropy, metrics=['accuracy'])"
      ]
    },
    {
      "cell_type": "code",
      "execution_count": null,
      "metadata": {
        "id": "qG_i-5Cq3c11"
      },
      "outputs": [],
      "source": [
        "# Initialize lists to store training and validation loss values\n",
        "train_losses = []\n",
        "val_losses = []\n",
        "\n",
        "# Train the model\n",
        "for epoch in range(epochs):\n",
        "    print(f\"Epoch {epoch+1}/{epochs}\")\n",
        "    total_loss = 0\n",
        "    total_reconstruction_loss = 0\n",
        "    total_accuracy = 0\n",
        "    steps = 0\n",
        "\n",
        "    # Training loop\n",
        "    for x_batch_train, y_batch_train in train_dataset:\n",
        "        with tf.GradientTape() as tape:\n",
        "            z_mean, z_log_var, z = encoder(x_batch_train, training=True)\n",
        "            reconstructions = decoder(z, training=True)\n",
        "            loss, reconstruction_loss, kl_loss = compute_loss(x_batch_train, reconstructions, z_mean, z_log_var)\n",
        "\n",
        "        gradients = tape.gradient(loss, vae.trainable_variables)\n",
        "        optimizer.apply_gradients(zip(gradients, vae.trainable_variables))\n",
        "\n",
        "        accuracy = compute_reconstruction_accuracy(x_batch_train, reconstructions)\n",
        "\n",
        "        total_loss += loss\n",
        "        total_reconstruction_loss += reconstruction_loss\n",
        "        total_accuracy += accuracy\n",
        "        steps += 1\n",
        "\n",
        "    mean_loss = total_loss / steps\n",
        "    mean_reconstruction_loss = total_reconstruction_loss / steps\n",
        "    mean_accuracy = total_accuracy / steps\n",
        "\n",
        "    # Append the mean training loss to the list\n",
        "    train_losses.append(mean_loss.numpy())  # <-- New line\n",
        "\n",
        "    # Validation loop\n",
        "    val_loss = 0\n",
        "    val_accuracy = 0\n",
        "    val_steps = 0\n",
        "    for x_batch_val, y_batch_val in test_dataset:\n",
        "        z_mean_val, z_log_var_val, z_val = encoder(x_batch_val, training=False)\n",
        "        reconstructions_val = decoder(z_val, training=False)\n",
        "        loss_val, _, _ = compute_loss(x_batch_val, reconstructions_val, z_mean_val, z_log_var_val)\n",
        "\n",
        "        accuracy_val = compute_reconstruction_accuracy(x_batch_val, reconstructions_val)\n",
        "\n",
        "        val_loss += loss_val\n",
        "        val_accuracy += accuracy_val\n",
        "        val_steps += 1\n",
        "\n",
        "    mean_val_loss = val_loss / val_steps\n",
        "    mean_val_accuracy = val_accuracy / val_steps\n",
        "\n",
        "    # Append the mean validation loss to the list\n",
        "    val_losses.append(mean_val_loss.numpy())  # <-- New line\n",
        "\n",
        "    print(f\"  Training Loss: {mean_loss:.4f}, Reconstruction Loss: {mean_reconstruction_loss:.4f}, Accuracy: {mean_accuracy:.4f}\")\n",
        "    print(f\"  Validation Loss: {mean_val_loss:.4f}, Validation Accuracy: {mean_val_accuracy:.4f}\")\n"
      ]
    },
    {
      "cell_type": "markdown",
      "metadata": {
        "id": "znPVCH_nc24K"
      },
      "source": [
        "## Evaluate the VAE model"
      ]
    },
    {
      "cell_type": "code",
      "execution_count": null,
      "metadata": {
        "id": "2V2T22f-y8QW"
      },
      "outputs": [],
      "source": [
        "import matplotlib.pyplot as plt\n",
        "\n",
        "# Plot the training and validation loss over epochs\n",
        "plt.figure(figsize=(12, 6))\n",
        "plt.plot(train_losses, label='Training Loss')\n",
        "plt.plot(val_losses, label='Validation Loss')\n",
        "plt.xlabel('Epochs')\n",
        "plt.ylabel('Loss')\n",
        "plt.title('Training and Validation Loss')\n",
        "plt.legend()\n",
        "plt.show()"
      ]
    },
    {
      "cell_type": "code",
      "execution_count": null,
      "metadata": {
        "id": "m_psDFGhx8Tk"
      },
      "outputs": [],
      "source": [
        "# Evaluate the model\n",
        "loss, accuracy = vae.evaluate(test_dataset)\n",
        "print(f\"Test Loss: {loss}, Test Accuracy: {accuracy}\")"
      ]
    },
    {
      "cell_type": "code",
      "execution_count": null,
      "metadata": {
        "id": "Rii4U9Xzx5_u"
      },
      "outputs": [],
      "source": [
        "# Save the entire VAE model\n",
        "vae.save('vae_model.h5')\n",
        "\n",
        "# Save the encoder and decoder models separately\n",
        "encoder.save('encoder_model.h5')\n",
        "decoder.save('decoder_model.h5')"
      ]
    },
    {
      "cell_type": "code",
      "execution_count": null,
      "metadata": {
        "id": "y1nNtilm-X9J"
      },
      "outputs": [],
      "source": [
        "from google.colab import drive\n",
        "from tensorflow.keras.models import load_model\n",
        "\n",
        "# Mount Google Drive\n",
        "drive.mount('/content/drive')\n",
        "\n",
        "# Define the paths\n",
        "vae_path = '/content/drive/Shared drives/THESIS LET\\'S GOOO/Colab Notebooks/Erin - sample run/Variational Autoencoder/Trained Models/vae_model[adjusted plots]_1.h5'\n",
        "encoder_path = '/content/drive/Shared drives/THESIS LET\\'S GOOO/Colab Notebooks/Erin - sample run/Variational Autoencoder/Trained Models/encoder_model[adjusted plots]_1.h5'\n",
        "decoder_path = '/content/drive/Shared drives/THESIS LET\\'S GOOO/Colab Notebooks/Erin - sample run/Variational Autoencoder/Trained Models/decoder_model[adjusted plots]_1.h5'\n",
        "\n",
        "# Assuming your VAE, encoder, and decoder models are defined as follows\n",
        "# vae = Model(inputs, outputs) # Your VAE model\n",
        "# encoder = Model(inputs, encoder_outputs) # Your encoder model\n",
        "# decoder = Model(decoder_inputs, decoder_outputs) # Your decoder model\n",
        "\n",
        "# Save the entire VAE model\n",
        "vae.save(vae_path)\n",
        "\n",
        "# Save the encoder and decoder models separately\n",
        "encoder.save(encoder_path)\n",
        "\n",
        "decoder.save(decoder_path)"
      ]
    },
    {
      "cell_type": "markdown",
      "metadata": {
        "id": "hB0WSdVLOkPv"
      },
      "source": [
        "# Regression Model"
      ]
    },
    {
      "cell_type": "markdown",
      "metadata": {
        "id": "B51DtIThob5m"
      },
      "source": [
        "## Preprocessing the data for the Regression model\n",
        "\n",
        "\n",
        "\n",
        "\n",
        "\n"
      ]
    },
    {
      "cell_type": "markdown",
      "metadata": {
        "id": "idNvpMh4ob5m"
      },
      "source": [
        "Import the necessary libraries.\n",
        "\n",
        "Load your dataset, which includes SMILES strings and corresponding pIC50 values.\n",
        "\n",
        "Tokenize, pad, and encode the SMILES strings.\n",
        "\n",
        "Normalize the pIC50 values to have zero mean and unit variance."
      ]
    },
    {
      "cell_type": "code",
      "execution_count": null,
      "metadata": {
        "id": "CT_atlkRob5n"
      },
      "outputs": [],
      "source": [
        "import numpy as np\n",
        "from tensorflow.keras.models import Model\n",
        "from tensorflow.keras.preprocessing.text import Tokenizer\n",
        "from tensorflow.keras.preprocessing.sequence import pad_sequences\n",
        "from sklearn.model_selection import train_test_split\n",
        "from sklearn.preprocessing import StandardScaler"
      ]
    },
    {
      "cell_type": "code",
      "execution_count": null,
      "metadata": {
        "id": "ln9aC97fob5n"
      },
      "outputs": [],
      "source": [
        "smiles_data = data[\"smiles\"]\n",
        "pic50_data = data[\"pIC50\"]"
      ]
    },
    {
      "cell_type": "code",
      "execution_count": null,
      "metadata": {
        "id": "fbzVW5NRob5n"
      },
      "outputs": [],
      "source": [
        "# Define a dictionary to map two-letter symbols and elements to single characters\n",
        "element_mapping = {\n",
        "    \"Ac\": \"a\",\n",
        "    \"Ag\": \"b\",\n",
        "    \"Al\": \"l\",\n",
        "    \"Au\": \"e\",\n",
        "    \"Ba\": \"f\",\n",
        "    \"Be\": \"g\",\n",
        "    \"Bi\": \"h\",\n",
        "    \"Bk\": \"i\",\n",
        "    \"Br\": \"j\",\n",
        "    \"Ca\": \"k\",\n",
        "    \"Ce\": \"m\",\n",
        "    \"Cl\": \"n\",\n",
        "    \"Cr\": \"p\",\n",
        "    \"Cu\": \"r\",\n",
        "    \"Fe\": \"q\",\n",
        "    \"Ga\": \"t\",\n",
        "    \"Gd\": \"u\",\n",
        "    \"Ge\": \"v\",\n",
        "    \"Hf\": \"x\",\n",
        "    \"In\": \"A\",\n",
        "    \"Kr\": \":\",\n",
        "    \"La\": \";\",\n",
        "    \"Li\": \"D\",\n",
        "    \"Lu\": \"E\",\n",
        "    \"Mg\": \"d\",\n",
        "    \"Mn\": \"G\",\n",
        "    \"Mo\": \",\",\n",
        "    \"Nb\": \"!\",\n",
        "    \"Nd\": \"J\",\n",
        "    \"Ni\": \"?\",\n",
        "    \"Pd\": \"*\",\n",
        "    \"Pt\": \"&\",\n",
        "    \"Ra\": \"P\",\n",
        "    \"Rb\": \"Q\",\n",
        "    \"Re\": \"R\",\n",
        "    \"Ru\": \"~\",\n",
        "    \"Sb\": \"T\",\n",
        "    \"Se\": \"{\",\n",
        "    \"Si\": \"V\",\n",
        "    \"Sm\": \"}\",\n",
        "    \"Sr\": \"X\",\n",
        "    \"Ta\": \"z\",\n",
        "    \"Tc\": \"Z\",\n",
        "    \"Te\": \"L\",\n",
        "    \"Ti\": \"_\",\n",
        "    \"Tl\": \"^\",\n",
        "    \"Zn\": \"₱\",\n",
        "    \"Zr\": \"€\",\n",
        "    \"@@\": \"$\"\n",
        "}"
      ]
    },
    {
      "cell_type": "code",
      "execution_count": null,
      "metadata": {
        "id": "w_zJFspxob5o"
      },
      "outputs": [],
      "source": [
        "# Replace using the dictionary\n",
        "smiles_data = [\"\".join(element_mapping.get(smiles[i:i+2], smiles[i]) for i in range(0, len(smiles), 2)) for smiles in smiles_data.tolist()]"
      ]
    },
    {
      "cell_type": "code",
      "execution_count": null,
      "metadata": {
        "id": "NgvtzkKrob5o"
      },
      "outputs": [],
      "source": [
        "# Tokenize the SMILES strings and replace using the dictionary\n",
        "tokenizer = Tokenizer(char_level=True)\n",
        "tokenizer.fit_on_texts(smiles_data)\n",
        "sequences = tokenizer.texts_to_sequences(smiles_data)"
      ]
    },
    {
      "cell_type": "code",
      "execution_count": null,
      "metadata": {
        "id": "U4xbTrKbob5o"
      },
      "outputs": [],
      "source": [
        "# Pad sequences to the same length\n",
        "max_length = max(len(seq) for seq in sequences)\n",
        "padded_sequences = pad_sequences(sequences, maxlen=max_length, padding='post')"
      ]
    },
    {
      "cell_type": "code",
      "execution_count": null,
      "metadata": {
        "id": "De-bNBVe-Uez",
        "colab": {
          "base_uri": "https://localhost:8080/"
        },
        "outputId": "1ed372da-e4a4-43a5-ae9c-54c3a3ef6b99"
      },
      "outputs": [
        {
          "output_type": "execute_result",
          "data": {
            "text/plain": [
              "55"
            ]
          },
          "metadata": {},
          "execution_count": 28
        }
      ],
      "source": [
        "max_length"
      ]
    },
    {
      "cell_type": "code",
      "execution_count": null,
      "metadata": {
        "id": "Oy0ghCF-ob5o"
      },
      "outputs": [],
      "source": [
        "# Convert to numpy arrays\n",
        "X = padded_sequences\n",
        "y = np.array(pic50_data)  # Assuming pic50_data is already a numpy arra"
      ]
    },
    {
      "cell_type": "code",
      "execution_count": null,
      "metadata": {
        "id": "vtc-c7X9AIsz",
        "colab": {
          "base_uri": "https://localhost:8080/"
        },
        "outputId": "9ea8cc6b-8b14-4006-9d3e-27cb3be604f5"
      },
      "outputs": [
        {
          "output_type": "execute_result",
          "data": {
            "text/plain": [
              "(4782, 55)"
            ]
          },
          "metadata": {},
          "execution_count": 30
        }
      ],
      "source": [
        "X.shape"
      ]
    },
    {
      "cell_type": "code",
      "execution_count": null,
      "metadata": {
        "id": "5bhDND_DAKqD",
        "colab": {
          "base_uri": "https://localhost:8080/"
        },
        "outputId": "473f5a3a-323b-47f5-e7b7-eb125dd48809"
      },
      "outputs": [
        {
          "output_type": "execute_result",
          "data": {
            "text/plain": [
              "(4782,)"
            ]
          },
          "metadata": {},
          "execution_count": 31
        }
      ],
      "source": [
        "y.shape"
      ]
    },
    {
      "cell_type": "code",
      "execution_count": null,
      "metadata": {
        "id": "RochFvCxob5o"
      },
      "outputs": [],
      "source": [
        "# Normalize pIC50 values using standard scaling (z-score normalization)\n",
        "pic50_scaler = StandardScaler()\n",
        "y = pic50_scaler.fit_transform(y.reshape(-1, 1)).flatten()"
      ]
    },
    {
      "cell_type": "code",
      "execution_count": null,
      "metadata": {
        "id": "VrU0Nk5cob5p"
      },
      "outputs": [],
      "source": [
        "# Split your data into training and test sets\n",
        "X_train, X_test, y_train, y_test = train_test_split(X, y, test_size=0.2, random_state=42)"
      ]
    },
    {
      "cell_type": "code",
      "execution_count": null,
      "metadata": {
        "id": "U-jaX_05osrx"
      },
      "outputs": [],
      "source": [
        "# Split X_train and y_train into training and validation sets\n",
        "X_train, X_val, y_train, y_val = train_test_split(X_train, y_train, test_size=0.1, random_state=42)\n",
        "\n",
        "# X_train, y_train: Training data\n",
        "# X_val, y_val: Validation data\n",
        "# X_test, y_test: Test data"
      ]
    },
    {
      "cell_type": "markdown",
      "metadata": {
        "id": "slHtBEGwo6PI"
      },
      "source": [
        "## Create Regression Model"
      ]
    },
    {
      "cell_type": "code",
      "execution_count": null,
      "metadata": {
        "id": "BGb5gdbhDCJa"
      },
      "outputs": [],
      "source": [
        "from tensorflow.keras.models import Sequential\n",
        "from tensorflow.keras.layers import Dense\n",
        "\n",
        "# Create a regression model\n",
        "regression_model = Sequential([\n",
        "    Dense(64, activation='relu', input_shape=(latent_dim,)),\n",
        "    Dense(32, activation='relu'),\n",
        "    Dense(1)  # Output layer with one neuron for pIC50 prediction\n",
        "])\n",
        "\n",
        "# Compile the model\n",
        "regression_model.compile(optimizer='adam', loss='mean_squared_error')\n"
      ]
    },
    {
      "cell_type": "code",
      "execution_count": null,
      "metadata": {
        "id": "EkGXTfXOFSvE",
        "colab": {
          "base_uri": "https://localhost:8080/"
        },
        "outputId": "262bdf93-4dff-4e57-8160-067fff5d0c1e"
      },
      "outputs": [
        {
          "output_type": "stream",
          "name": "stdout",
          "text": [
            "Model: \"sequential\"\n",
            "_________________________________________________________________\n",
            " Layer (type)                Output Shape              Param #   \n",
            "=================================================================\n",
            " dense_3 (Dense)             (None, 64)                2112      \n",
            "                                                                 \n",
            " dense_4 (Dense)             (None, 32)                2080      \n",
            "                                                                 \n",
            " dense_5 (Dense)             (None, 1)                 33        \n",
            "                                                                 \n",
            "=================================================================\n",
            "Total params: 4225 (16.50 KB)\n",
            "Trainable params: 4225 (16.50 KB)\n",
            "Non-trainable params: 0 (0.00 Byte)\n",
            "_________________________________________________________________\n"
          ]
        }
      ],
      "source": [
        "regression_model.summary()"
      ]
    },
    {
      "cell_type": "markdown",
      "metadata": {
        "id": "vFr3821spMSk"
      },
      "source": [
        "## Train the Regression Model"
      ]
    },
    {
      "cell_type": "code",
      "execution_count": null,
      "metadata": {
        "id": "xOSdsKT4qU6T",
        "colab": {
          "base_uri": "https://localhost:8080/",
          "height": 1000
        },
        "outputId": "3b862597-9091-49a5-960c-8be6373e40f8"
      },
      "outputs": [
        {
          "output_type": "stream",
          "name": "stdout",
          "text": [
            "Epoch 1/100\n",
            "87/87 [==============================] - 21s 216ms/step - loss: 0.9283 - mae: 0.7608 - val_loss: 0.9846 - val_mae: 0.7866\n",
            "Epoch 2/100\n",
            "87/87 [==============================] - 19s 215ms/step - loss: 0.8962 - mae: 0.7523 - val_loss: 0.9891 - val_mae: 0.7868\n",
            "Epoch 3/100\n",
            "87/87 [==============================] - 19s 213ms/step - loss: 0.8861 - mae: 0.7464 - val_loss: 0.9666 - val_mae: 0.7768\n",
            "Epoch 4/100\n",
            "87/87 [==============================] - 18s 208ms/step - loss: 0.8461 - mae: 0.7309 - val_loss: 0.9065 - val_mae: 0.7456\n",
            "Epoch 5/100\n",
            "87/87 [==============================] - 18s 205ms/step - loss: 0.8035 - mae: 0.7111 - val_loss: 0.8462 - val_mae: 0.7195\n",
            "Epoch 6/100\n",
            "87/87 [==============================] - 18s 206ms/step - loss: 0.7486 - mae: 0.6811 - val_loss: 0.8529 - val_mae: 0.7230\n",
            "Epoch 7/100\n",
            "87/87 [==============================] - 18s 204ms/step - loss: 0.7227 - mae: 0.6658 - val_loss: 0.8145 - val_mae: 0.7052\n",
            "Epoch 8/100\n",
            "87/87 [==============================] - 20s 225ms/step - loss: 0.6922 - mae: 0.6505 - val_loss: 0.7985 - val_mae: 0.6950\n",
            "Epoch 9/100\n",
            "87/87 [==============================] - 18s 203ms/step - loss: 0.6842 - mae: 0.6467 - val_loss: 0.7902 - val_mae: 0.6903\n",
            "Epoch 10/100\n",
            "87/87 [==============================] - 18s 203ms/step - loss: 0.6561 - mae: 0.6318 - val_loss: 0.8091 - val_mae: 0.6966\n",
            "Epoch 11/100\n",
            "87/87 [==============================] - 18s 205ms/step - loss: 0.6410 - mae: 0.6220 - val_loss: 0.7814 - val_mae: 0.6825\n",
            "Epoch 12/100\n",
            "87/87 [==============================] - 18s 206ms/step - loss: 0.6524 - mae: 0.6268 - val_loss: 0.7908 - val_mae: 0.6886\n",
            "Epoch 13/100\n",
            "87/87 [==============================] - 20s 225ms/step - loss: 0.6057 - mae: 0.6065 - val_loss: 0.7467 - val_mae: 0.6742\n",
            "Epoch 14/100\n",
            "87/87 [==============================] - 18s 205ms/step - loss: 0.5917 - mae: 0.5949 - val_loss: 0.7634 - val_mae: 0.6844\n",
            "Epoch 15/100\n",
            "87/87 [==============================] - 18s 206ms/step - loss: 0.5731 - mae: 0.5894 - val_loss: 0.7637 - val_mae: 0.6808\n",
            "Epoch 16/100\n",
            "87/87 [==============================] - 18s 203ms/step - loss: 0.5658 - mae: 0.5807 - val_loss: 0.7195 - val_mae: 0.6537\n",
            "Epoch 17/100\n",
            "87/87 [==============================] - 18s 208ms/step - loss: 0.5599 - mae: 0.5737 - val_loss: 0.8153 - val_mae: 0.6993\n",
            "Epoch 18/100\n",
            "87/87 [==============================] - 20s 228ms/step - loss: 0.5535 - mae: 0.5754 - val_loss: 0.7245 - val_mae: 0.6616\n",
            "Epoch 19/100\n",
            "87/87 [==============================] - 18s 203ms/step - loss: 0.5308 - mae: 0.5604 - val_loss: 0.7921 - val_mae: 0.6898\n",
            "Epoch 20/100\n",
            "87/87 [==============================] - 18s 205ms/step - loss: 0.6467 - mae: 0.6281 - val_loss: 0.7318 - val_mae: 0.6639\n",
            "Epoch 21/100\n",
            "87/87 [==============================] - 18s 204ms/step - loss: 0.5623 - mae: 0.5794 - val_loss: 0.7279 - val_mae: 0.6614\n",
            "Epoch 22/100\n",
            "87/87 [==============================] - 18s 204ms/step - loss: 0.5209 - mae: 0.5554 - val_loss: 0.6986 - val_mae: 0.6486\n",
            "Epoch 23/100\n",
            "87/87 [==============================] - 19s 213ms/step - loss: 0.4991 - mae: 0.5434 - val_loss: 0.7088 - val_mae: 0.6466\n",
            "Epoch 24/100\n",
            "87/87 [==============================] - 20s 225ms/step - loss: 0.4940 - mae: 0.5405 - val_loss: 0.7446 - val_mae: 0.6689\n",
            "Epoch 25/100\n",
            "87/87 [==============================] - 18s 203ms/step - loss: 0.4932 - mae: 0.5407 - val_loss: 0.7386 - val_mae: 0.6605\n",
            "Epoch 26/100\n",
            "87/87 [==============================] - 18s 202ms/step - loss: 0.4794 - mae: 0.5292 - val_loss: 0.7112 - val_mae: 0.6464\n",
            "Epoch 27/100\n",
            "87/87 [==============================] - 18s 204ms/step - loss: 0.4561 - mae: 0.5170 - val_loss: 0.6852 - val_mae: 0.6372\n",
            "Epoch 28/100\n",
            "87/87 [==============================] - 18s 207ms/step - loss: 0.4388 - mae: 0.5040 - val_loss: 0.6998 - val_mae: 0.6378\n",
            "Epoch 29/100\n",
            "87/87 [==============================] - 20s 227ms/step - loss: 0.4243 - mae: 0.4963 - val_loss: 0.6584 - val_mae: 0.6226\n",
            "Epoch 30/100\n",
            "87/87 [==============================] - 18s 205ms/step - loss: 0.4359 - mae: 0.5096 - val_loss: 0.6980 - val_mae: 0.6347\n",
            "Epoch 31/100\n",
            "87/87 [==============================] - 18s 203ms/step - loss: 0.4231 - mae: 0.5016 - val_loss: 0.7135 - val_mae: 0.6432\n",
            "Epoch 32/100\n",
            "87/87 [==============================] - 18s 205ms/step - loss: 0.4476 - mae: 0.5121 - val_loss: 0.6866 - val_mae: 0.6321\n",
            "Epoch 33/100\n",
            "87/87 [==============================] - 18s 205ms/step - loss: 0.3873 - mae: 0.4721 - val_loss: 0.6627 - val_mae: 0.6215\n",
            "Epoch 34/100\n",
            "87/87 [==============================] - 19s 221ms/step - loss: 0.4004 - mae: 0.4870 - val_loss: 0.7293 - val_mae: 0.6540\n",
            "Epoch 35/100\n",
            "87/87 [==============================] - 18s 209ms/step - loss: 0.3877 - mae: 0.4740 - val_loss: 0.6662 - val_mae: 0.6237\n",
            "Epoch 36/100\n",
            "87/87 [==============================] - 18s 203ms/step - loss: 0.4208 - mae: 0.5015 - val_loss: 0.6676 - val_mae: 0.6197\n",
            "Epoch 37/100\n",
            "87/87 [==============================] - 18s 203ms/step - loss: 0.3732 - mae: 0.4659 - val_loss: 0.6543 - val_mae: 0.6106\n",
            "Epoch 38/100\n",
            "87/87 [==============================] - 18s 204ms/step - loss: 0.3521 - mae: 0.4527 - val_loss: 0.6822 - val_mae: 0.6270\n",
            "Epoch 39/100\n",
            "87/87 [==============================] - 26s 298ms/step - loss: 0.3665 - mae: 0.4651 - val_loss: 0.6791 - val_mae: 0.6288\n",
            "Epoch 40/100\n",
            "87/87 [==============================] - 22s 246ms/step - loss: 0.3428 - mae: 0.4474 - val_loss: 0.7010 - val_mae: 0.6388\n",
            "Epoch 41/100\n",
            "87/87 [==============================] - 18s 205ms/step - loss: 0.3466 - mae: 0.4514 - val_loss: 0.6816 - val_mae: 0.6274\n",
            "Epoch 42/100\n",
            "87/87 [==============================] - 19s 224ms/step - loss: 0.3384 - mae: 0.4422 - val_loss: 0.6681 - val_mae: 0.6200\n",
            "Epoch 43/100\n",
            "87/87 [==============================] - 18s 204ms/step - loss: 0.3294 - mae: 0.4388 - val_loss: 0.6819 - val_mae: 0.6261\n",
            "Epoch 44/100\n",
            "87/87 [==============================] - 18s 203ms/step - loss: 0.3874 - mae: 0.4783 - val_loss: 0.6702 - val_mae: 0.6202\n",
            "Epoch 45/100\n",
            "87/87 [==============================] - 19s 220ms/step - loss: 0.3083 - mae: 0.4220 - val_loss: 0.6493 - val_mae: 0.6079\n",
            "Epoch 46/100\n",
            "87/87 [==============================] - 18s 207ms/step - loss: 0.3062 - mae: 0.4221 - val_loss: 0.6738 - val_mae: 0.6205\n",
            "Epoch 47/100\n",
            "87/87 [==============================] - 20s 225ms/step - loss: 0.2912 - mae: 0.4116 - val_loss: 0.6623 - val_mae: 0.6183\n",
            "Epoch 48/100\n",
            "87/87 [==============================] - 18s 206ms/step - loss: 0.2883 - mae: 0.4063 - val_loss: 0.6503 - val_mae: 0.6121\n",
            "Epoch 49/100\n",
            "87/87 [==============================] - 18s 206ms/step - loss: 0.2828 - mae: 0.4008 - val_loss: 0.6813 - val_mae: 0.6244\n",
            "Epoch 50/100\n",
            "87/87 [==============================] - 18s 208ms/step - loss: 0.2949 - mae: 0.4106 - val_loss: 0.6607 - val_mae: 0.6117\n",
            "Epoch 51/100\n",
            "87/87 [==============================] - 18s 207ms/step - loss: 0.2598 - mae: 0.3844 - val_loss: 0.6932 - val_mae: 0.6227\n",
            "Epoch 52/100\n",
            "87/87 [==============================] - 20s 226ms/step - loss: 0.2476 - mae: 0.3765 - val_loss: 0.6704 - val_mae: 0.6187\n",
            "Epoch 53/100\n",
            "87/87 [==============================] - 18s 204ms/step - loss: 0.2308 - mae: 0.3636 - val_loss: 0.6795 - val_mae: 0.6253\n",
            "Epoch 54/100\n",
            "87/87 [==============================] - 18s 202ms/step - loss: 0.2668 - mae: 0.3932 - val_loss: 0.6683 - val_mae: 0.6112\n",
            "Epoch 55/100\n",
            "87/87 [==============================] - 18s 206ms/step - loss: 0.2368 - mae: 0.3700 - val_loss: 0.6538 - val_mae: 0.6054\n",
            "Test Loss (MSE): 0.6316\n",
            "Test MAE: 0.6118\n"
          ]
        },
        {
          "output_type": "display_data",
          "data": {
            "text/plain": [
              "<Figure size 1200x600 with 1 Axes>"
            ],
            "image/png": "[encoded data removed]"
          },
          "metadata": {}
        },
        {
          "output_type": "stream",
          "name": "stdout",
          "text": [
            "30/30 [==============================] - 2s 68ms/step\n"
          ]
        },
        {
          "output_type": "display_data",
          "data": {
            "text/plain": [
              "<Figure size 1200x600 with 1 Axes>"
            ],
            "image/png": "[encoded data removed]"
          },
          "metadata": {}
        }
      ],
      "source": [
        "from keras.models import Model, Sequential\n",
        "from keras.layers import LSTM, Dense, Dropout\n",
        "from keras.callbacks import EarlyStopping\n",
        "import matplotlib.pyplot as plt\n",
        "\n",
        "# Assuming 'encoder' is your encoder model from the VAE\n",
        "\n",
        "# Extract the encoder model up to the LSTM layer\n",
        "encoder_lstm_output = encoder.get_layer('lstm').output\n",
        "encoder_model = Model(inputs=encoder.input, outputs=encoder_lstm_output)\n",
        "\n",
        "# Define the regression model\n",
        "regression_model = Sequential([\n",
        "    encoder_model,  # Encoder LSTM output as input\n",
        "    Dense(64, activation='relu'),\n",
        "    Dropout(0.5),  # Add dropout for regularization\n",
        "    Dense(32, activation='relu'),\n",
        "    Dropout(0.5),  # Add dropout for regularization\n",
        "    Dense(1)  # Output layer for regression\n",
        "])\n",
        "\n",
        "# Compile the regression model with MSE loss and MAE metric\n",
        "regression_model.compile(optimizer='adam', loss='mean_squared_error', metrics=['mae'])\n",
        "\n",
        "# Early stopping callback to prevent overfitting\n",
        "early_stopping = EarlyStopping(monitor='val_loss', patience=10, restore_best_weights=True)\n",
        "\n",
        "# Train the regression model with early stopping\n",
        "history = regression_model.fit(\n",
        "    x=X_train,  # Input data (encoder outputs)\n",
        "    y=y_train,  # Target data (pIC50)\n",
        "    epochs=100,\n",
        "    batch_size=32,\n",
        "    validation_split=0.2,\n",
        "    callbacks=[early_stopping]\n",
        ")\n",
        "\n",
        "# Evaluate the model\n",
        "loss, mae = regression_model.evaluate(X_test, y_test, verbose=0)\n",
        "print(f\"Test Loss (MSE): {loss:.4f}\")\n",
        "print(f\"Test MAE: {mae:.4f}\")\n",
        "\n",
        "# Plot training & validation loss values\n",
        "plt.figure(figsize=(12, 6))\n",
        "plt.plot(history.history['loss'], label='Training Loss (MSE)')\n",
        "plt.plot(history.history['val_loss'], label='Validation Loss (MSE)')\n",
        "plt.xlabel('Epochs')\n",
        "plt.ylabel('Loss (MSE)')\n",
        "plt.title('Training and Validation Loss (MSE)')\n",
        "plt.legend()\n",
        "plt.show()\n",
        "\n",
        "\n",
        "# Predict on the test set\n",
        "y_pred = regression_model.predict(X_test)\n",
        "\n",
        "# Plot predicted vs actual values\n",
        "plt.figure(figsize=(12, 6))\n",
        "plt.scatter(y_test, y_pred, label='Predicted vs Actual')\n",
        "plt.xlabel('Actual pIC50')\n",
        "plt.ylabel('Predicted pIC50')\n",
        "plt.title('Predicted vs Actual pIC50')\n",
        "plt.legend()\n",
        "plt.show()\n",
        "\n"
      ]
    },
    {
      "cell_type": "code",
      "execution_count": null,
      "metadata": {
        "id": "3dhII7BeziAq",
        "colab": {
          "base_uri": "https://localhost:8080/"
        },
        "outputId": "ab79660d-d056-440f-cf86-7879634523ac"
      },
      "outputs": [
        {
          "output_type": "stream",
          "name": "stdout",
          "text": [
            "Test Loss (MSE): 0.6316\n",
            "Test MAE: 0.6118\n"
          ]
        }
      ],
      "source": [
        "# Evaluate the model\n",
        "loss, mae = regression_model.evaluate(X_test, y_test, verbose=0)\n",
        "print(f\"Test Loss (MSE): {loss:.4f}\")\n",
        "print(f\"Test MAE: {mae:.4f}\")"
      ]
    },
    {
      "cell_type": "markdown",
      "source": [
        "#Evaluate Model"
      ],
      "metadata": {
        "id": "AXULAgi5NS5o"
      }
    },
    {
      "cell_type": "code",
      "source": [
        "import matplotlib.pyplot as plt\n",
        "\n",
        "# Plot training & validation loss values\n",
        "plt.figure(figsize=(12, 6))\n",
        "plt.plot(history.history['loss'], label='Training Loss (MSE)')\n",
        "plt.plot(history.history['val_loss'], label='Validation Loss (MSE)')\n",
        "plt.xlabel('Epochs')\n",
        "plt.ylabel('Loss (MSE)')\n",
        "plt.title('Training and Validation Loss (MSE)')\n",
        "plt.legend()\n",
        "plt.show()\n",
        "\n",
        "# Plot training & validation MAE values\n",
        "plt.figure(figsize=(12, 6))\n",
        "plt.plot(history.history['mae'], label='Training MAE')\n",
        "plt.plot(history.history['val_mae'], label='Validation MAE')\n",
        "plt.xlabel('Epochs')\n",
        "plt.ylabel('MAE')\n",
        "plt.title('Training and Validation MAE')\n",
        "plt.legend()\n",
        "plt.show()\n",
        "\n",
        "# Predict on the test set\n",
        "y_pred = regression_model.predict(X_test)\n",
        "\n",
        "# Plot predicted vs actual values\n",
        "plt.figure(figsize=(12, 6))\n",
        "plt.scatter(y_test, y_pred, label='Predicted vs Actual')\n",
        "plt.xlabel('Actual pIC50')\n",
        "plt.ylabel('Predicted pIC50')\n",
        "plt.title('Predicted vs Actual pIC50')\n",
        "plt.legend()\n",
        "plt.show()"
      ],
      "metadata": {
        "id": "3Ut7mH6UNSxF"
      },
      "execution_count": null,
      "outputs": []
    },
    {
      "cell_type": "markdown",
      "source": [
        "#Save Regression Model"
      ],
      "metadata": {
        "id": "yimDH7pbNZ8c"
      }
    },
    {
      "cell_type": "code",
      "source": [
        "# Assuming you have X_train_encoded (encoded SMILES) with shape (5201, 166, 35)\n",
        "# and pic50 values as y_train with shape (5201, 1)\n",
        "\n",
        "# Compile the regression model\n",
        "regression_model.compile(optimizer='adam', loss='mean_squared_error')"
      ],
      "metadata": {
        "id": "T8okSzqvNZct"
      },
      "execution_count": null,
      "outputs": []
    },
    {
      "cell_type": "code",
      "source": [
        "from tensorflow.keras.models import save_model\n",
        "\n",
        "# Assuming you have already trained and have the regression_model object\n",
        "\n",
        "# Save the trained regression model\n",
        "save_model(regression_model, 'regression_model.h5')"
      ],
      "metadata": {
        "id": "Sp534LiDNSug"
      },
      "execution_count": null,
      "outputs": []
    },
    {
      "cell_type": "markdown",
      "source": [
        "# Cross-Validation w/ Filtering >110"
      ],
      "metadata": {
        "id": "Nnw5a73xNjkf"
      }
    },
    {
      "cell_type": "code",
      "source": [
        "import pandas as pd\n",
        "\n",
        "# Read data from CSV\n",
        "data = pd.read_csv('output_df_pik3ca_1.csv')"
      ],
      "metadata": {
        "id": "C-Cg4enUNjS7"
      },
      "execution_count": null,
      "outputs": []
    },
    {
      "cell_type": "code",
      "source": [
        "import numpy as np\n",
        "from tensorflow.keras.models import Model\n",
        "from tensorflow.keras.preprocessing.text import Tokenizer\n",
        "from tensorflow.keras.preprocessing.sequence import pad_sequences\n",
        "from sklearn.model_selection import train_test_split\n",
        "from sklearn.preprocessing import StandardScaler\n",
        "\n",
        "smiles_data = data[\"smiles\"]\n",
        "pic50_data = data[\"pIC50\"]"
      ],
      "metadata": {
        "id": "LnvPtKplNdin"
      },
      "execution_count": null,
      "outputs": []
    },
    {
      "cell_type": "code",
      "source": [
        "# Define a dictionary to map two-letter symbols and elements to single characters\n",
        "element_mapping = {\n",
        "    \"Ac\": \"a\",\n",
        "    \"Ag\": \"b\",\n",
        "    \"Al\": \"l\",\n",
        "    \"Au\": \"e\",\n",
        "    \"Ba\": \"f\",\n",
        "    \"Be\": \"g\",\n",
        "    \"Bi\": \"h\",\n",
        "    \"Bk\": \"i\",\n",
        "    \"Br\": \"j\",\n",
        "    \"Ca\": \"k\",\n",
        "    \"Ce\": \"m\",\n",
        "    \"Cl\": \"n\",\n",
        "    \"Cr\": \"p\",\n",
        "    \"Cu\": \"r\",\n",
        "    \"Fe\": \"q\",\n",
        "    \"Ga\": \"t\",\n",
        "    \"Gd\": \"u\",\n",
        "    \"Ge\": \"v\",\n",
        "    \"Hf\": \"x\",\n",
        "    \"In\": \"A\",\n",
        "    \"Kr\": \":\",\n",
        "    \"La\": \";\",\n",
        "    \"Li\": \"D\",\n",
        "    \"Lu\": \"E\",\n",
        "    \"Mg\": \"d\",\n",
        "    \"Mn\": \"G\",\n",
        "    \"Mo\": \",\",\n",
        "    \"Nb\": \"!\",\n",
        "    \"Nd\": \"J\",\n",
        "    \"Ni\": \"?\",\n",
        "    \"Pd\": \"*\",\n",
        "    \"Pt\": \"&\",\n",
        "    \"Ra\": \"P\",\n",
        "    \"Rb\": \"Q\",\n",
        "    \"Re\": \"R\",\n",
        "    \"Ru\": \"~\",\n",
        "    \"Sb\": \"T\",\n",
        "    \"Se\": \"{\",\n",
        "    \"Si\": \"V\",\n",
        "    \"Sm\": \"}\",\n",
        "    \"Sr\": \"X\",\n",
        "    \"Ta\": \"z\",\n",
        "    \"Tc\": \"Z\",\n",
        "    \"Te\": \"L\",\n",
        "    \"Ti\": \"_\",\n",
        "    \"Tl\": \"^\",\n",
        "    \"Zn\": \"₱\",\n",
        "    \"Zr\": \"€\",\n",
        "    \"@@\": \"$\"\n",
        "}"
      ],
      "metadata": {
        "id": "Mjz4NDG6NSsE"
      },
      "execution_count": null,
      "outputs": []
    },
    {
      "cell_type": "code",
      "source": [
        "# Replace using the dictionary\n",
        "smiles_data = [\"\".join(element_mapping.get(smiles[i:i+2], smiles[i]) for i in range(0, len(smiles), 2)) for smiles in smiles_data.tolist()]"
      ],
      "metadata": {
        "id": "U1G71aXTNSpg"
      },
      "execution_count": null,
      "outputs": []
    },
    {
      "cell_type": "code",
      "source": [
        "# Tokenize the SMILES strings and replace using the dictionary\n",
        "tokenizer = Tokenizer(char_level=True)\n",
        "tokenizer.fit_on_texts(smiles_data)\n",
        "sequences = tokenizer.texts_to_sequences(smiles_data)"
      ],
      "metadata": {
        "id": "GO931A_3NSm5"
      },
      "execution_count": null,
      "outputs": []
    },
    {
      "cell_type": "code",
      "source": [
        "# Pad sequences to the same length\n",
        "max_length = 55\n",
        "padded_sequences = pad_sequences(sequences, maxlen=max_length, padding='post')"
      ],
      "metadata": {
        "id": "9oF1-m_NNSkE"
      },
      "execution_count": null,
      "outputs": []
    },
    {
      "cell_type": "code",
      "source": [
        "# Convert to numpy arrays\n",
        "X = padded_sequences\n",
        "y = np.array(pic50_data)  # Assuming pic50_data is already a numpy arra"
      ],
      "metadata": {
        "id": "AQ1CuAYgNShQ"
      },
      "execution_count": null,
      "outputs": []
    },
    {
      "cell_type": "code",
      "source": [
        "# Normalize pIC50 values using standard scaling (z-score normalization)\n",
        "pic50_scaler = StandardScaler()\n",
        "y = pic50_scaler.fit_transform(y.reshape(-1, 1)).flatten()"
      ],
      "metadata": {
        "id": "GI7jZj4YNSL3"
      },
      "execution_count": null,
      "outputs": []
    },
    {
      "cell_type": "code",
      "source": [
        "# Normalize pIC50 values using standard scaling (z-score normalization)\n",
        "pic50_scaler = StandardScaler()\n",
        "y = pic50_scaler.fit_transform(y.reshape(-1, 1)).flatten()"
      ],
      "metadata": {
        "id": "5hgSLLBrNtdF"
      },
      "execution_count": null,
      "outputs": []
    },
    {
      "cell_type": "code",
      "source": [
        "# Split your data into training and test sets\n",
        "X_train, X_test, y_train, y_test = train_test_split(X, y, test_size=0.2, random_state=42)"
      ],
      "metadata": {
        "id": "R70rPCX7N1EW"
      },
      "execution_count": null,
      "outputs": []
    },
    {
      "cell_type": "code",
      "source": [
        "# Split X_train and y_train into training and validation sets\n",
        "X_train, X_val, y_train, y_val = train_test_split(X_train, y_train, test_size=0.1, random_state=42)\n",
        "\n",
        "# X_train, y_train: Training data\n",
        "# X_val, y_val: Validation data\n",
        "# X_test, y_test: Test data"
      ],
      "metadata": {
        "id": "rvjXM4mMN0sV"
      },
      "execution_count": null,
      "outputs": []
    },
    {
      "cell_type": "code",
      "source": [
        "print(regression_model.summary ())"
      ],
      "metadata": {
        "id": "a5S_IWo7NOpA"
      },
      "execution_count": null,
      "outputs": []
    },
    {
      "cell_type": "code",
      "source": [
        "from sklearn.model_selection import KFold\n",
        "from sklearn.metrics import mean_squared_error, mean_absolute_error\n",
        "import numpy as np\n",
        "import tensorflow as tf\n",
        "\n",
        "# Load pre-trained regression model\n",
        "regressor = tf.keras.models.load_model('regression_model.h5')\n",
        "\n",
        "# Filter out SMILES data with length greater than 110\n",
        "max_smiles_length = 110\n",
        "X_train_filtered = np.array([smiles for smiles in X_train if len(smiles) <= max_smiles_length])\n",
        "y_train_filtered = np.array([y for smiles, y in zip(X_train, y_train) if len(smiles) <= max_smiles_length])\n",
        "\n",
        "n_splits = 5\n",
        "kf = KFold(n_splits=n_splits)\n",
        "\n",
        "mse_scores = []\n",
        "mae_scores = []\n",
        "\n",
        "for train_index, val_index in kf.split(X_train_filtered):\n",
        "    X_train_fold, X_val_fold = X_train_filtered[train_index], X_train_filtered[val_index]\n",
        "    y_train_fold, y_val_fold = y_train_filtered[train_index], y_train_filtered[val_index]\n",
        "\n",
        "    # Predict on validation fold using pre-trained regression model\n",
        "    y_pred = regressor.predict(X_val_fold)\n",
        "\n",
        "    # Calculate mean squared error\n",
        "    mse = mean_squared_error(y_val_fold, y_pred)\n",
        "    mse_scores.append(mse)\n",
        "\n",
        "    # Calculate mean absolute error\n",
        "    mae = mean_absolute_error(y_val_fold, y_pred)\n",
        "    mae_scores.append(mae)\n",
        "\n",
        "print(\"Cross-validated MSE: \", np.mean(mse_scores))\n",
        "print(\"Cross-validated MAE: \", np.mean(mae_scores))\n"
      ],
      "metadata": {
        "id": "__TRO9mPN34V"
      },
      "execution_count": null,
      "outputs": []
    },
    {
      "cell_type": "markdown",
      "source": [
        "#Use Saved Autoencoder to generate fingerprints on Drugbank data"
      ],
      "metadata": {
        "id": "JkjSVVkOncfU"
      }
    },
    {
      "cell_type": "code",
      "source": [
        "import pandas as pd\n",
        "import numpy as np\n",
        "from tensorflow.keras.models import Model\n",
        "from tensorflow.keras.preprocessing.text import Tokenizer\n",
        "from tensorflow.keras.preprocessing.sequence import pad_sequences\n",
        "from sklearn.model_selection import train_test_split\n",
        "from sklearn.preprocessing import StandardScaler\n",
        "\n",
        "# Read Drugbank data from CSV\n",
        "data_drugbank = pd.read_csv('no_surplus_tokens_drugbank.csv')"
      ],
      "metadata": {
        "id": "ROqhHtMjncGh"
      },
      "execution_count": null,
      "outputs": []
    },
    {
      "cell_type": "code",
      "source": [
        "import pandas as pd\n",
        "\n",
        "# Assuming your dataframe is named 'data' and the column containing SMILES is named 'smiles'\n",
        "\n",
        "# Sample DataFrame\n",
        "# data = pd.DataFrame({'smiles': ['C'*100, 'C'*120, 'C'*90]})\n",
        "\n",
        "# Filtering rows based on SMILES string length and replacing original dataframe\n",
        "data_drugbank = data_drugbank[data_drugbank['smiles'].apply(len) <= 110]\n",
        "\n",
        "# Reset index after filtering\n",
        "data_drugbank.reset_index(drop=True, inplace=True)\n",
        "\n",
        "# Print or use the filtered dataframe as required\n",
        "print(data_drugbank)\n"
      ],
      "metadata": {
        "id": "fvGkrrvrnfcL"
      },
      "execution_count": null,
      "outputs": []
    },
    {
      "cell_type": "code",
      "source": [
        "smiles_data = data_drugbank[\"smiles\"]\n",
        "pic50_data = data_drugbank[\"pIC50\"]"
      ],
      "metadata": {
        "id": "o_Di53yTnh5e"
      },
      "execution_count": null,
      "outputs": []
    },
    {
      "cell_type": "code",
      "source": [
        "# Define a dictionary to map two-letter symbols and elements to single characters\n",
        "element_mapping = {\n",
        "    \"Ac\": \"a\",\n",
        "    \"Ag\": \"b\",\n",
        "    \"Al\": \"l\",\n",
        "    \"Au\": \"e\",\n",
        "    \"Ba\": \"f\",\n",
        "    \"Be\": \"g\",\n",
        "    \"Bi\": \"h\",\n",
        "    \"Bk\": \"i\",\n",
        "    \"Br\": \"j\",\n",
        "    \"Ca\": \"k\",\n",
        "    \"Ce\": \"m\",\n",
        "    \"Cl\": \"n\",\n",
        "    \"Cr\": \"p\",\n",
        "    \"Cu\": \"r\",\n",
        "    \"Fe\": \"q\",\n",
        "    \"Ga\": \"t\",\n",
        "    \"Gd\": \"u\",\n",
        "    \"Ge\": \"v\",\n",
        "    \"Hf\": \"x\",\n",
        "    \"In\": \"A\",\n",
        "    \"Kr\": \":\",\n",
        "    \"La\": \";\",\n",
        "    \"Li\": \"D\",\n",
        "    \"Lu\": \"E\",\n",
        "    \"Mg\": \"d\",\n",
        "    \"Mn\": \"G\",\n",
        "    \"Mo\": \",\",\n",
        "    \"Nb\": \"!\",\n",
        "    \"Nd\": \"J\",\n",
        "    \"Ni\": \"?\",\n",
        "    \"Pd\": \"*\",\n",
        "    \"Pt\": \"&\",\n",
        "    \"Ra\": \"P\",\n",
        "    \"Rb\": \"Q\",\n",
        "    \"Re\": \"R\",\n",
        "    \"Ru\": \"~\",\n",
        "    \"Sb\": \"T\",\n",
        "    \"Se\": \"{\",\n",
        "    \"Si\": \"V\",\n",
        "    \"Sm\": \"}\",\n",
        "    \"Sr\": \"X\",\n",
        "    \"Ta\": \"z\",\n",
        "    \"Tc\": \"Z\",\n",
        "    \"Te\": \"L\",\n",
        "    \"Ti\": \"_\",\n",
        "    \"Tl\": \"^\",\n",
        "    \"Zn\": \"₱\",\n",
        "    \"Zr\": \"€\",\n",
        "    \"@@\": \"$\"\n",
        "}"
      ],
      "metadata": {
        "id": "IEqukOcCnjSJ"
      },
      "execution_count": null,
      "outputs": []
    },
    {
      "cell_type": "code",
      "source": [
        "# Replace using the dictionary\n",
        "smiles_data = [\"\".join(element_mapping.get(smiles[i:i+2], smiles[i]) for i in range(0, len(smiles), 2)) for smiles in smiles_data.tolist()]"
      ],
      "metadata": {
        "id": "vCl9_tBVnlUx"
      },
      "execution_count": null,
      "outputs": []
    },
    {
      "cell_type": "code",
      "source": [
        "# Tokenize the SMILES strings and replace using the dictionary\n",
        "tokenizer = Tokenizer(char_level=True)\n",
        "tokenizer.fit_on_texts(smiles_data)\n",
        "sequences = tokenizer.texts_to_sequences(smiles_data)"
      ],
      "metadata": {
        "id": "EfFi6VCEnlLy"
      },
      "execution_count": null,
      "outputs": []
    },
    {
      "cell_type": "code",
      "source": [
        "tokenizer.word_index"
      ],
      "metadata": {
        "id": "oKE5PdfinlDh"
      },
      "execution_count": null,
      "outputs": []
    },
    {
      "cell_type": "code",
      "source": [
        "# Pad sequences to the same length\n",
        "max_length = 55\n",
        "padded_sequences = pad_sequences(sequences, maxlen=max_length, padding='post')"
      ],
      "metadata": {
        "id": "y284QtMrnpDT"
      },
      "execution_count": null,
      "outputs": []
    },
    {
      "cell_type": "code",
      "source": [
        "# Convert to numpy arrays\n",
        "X = padded_sequences\n",
        "y = np.array(pic50_data)  # Assuming pic50_data is already a numpy arra"
      ],
      "metadata": {
        "id": "tWAO53synqR9"
      },
      "execution_count": null,
      "outputs": []
    },
    {
      "cell_type": "code",
      "source": [
        "X.shape"
      ],
      "metadata": {
        "id": "_UAPxax7nrvl"
      },
      "execution_count": null,
      "outputs": []
    },
    {
      "cell_type": "code",
      "source": [
        "y.shape"
      ],
      "metadata": {
        "id": "enIHieRQnsJ-"
      },
      "execution_count": null,
      "outputs": []
    },
    {
      "cell_type": "code",
      "source": [
        "# Normalize pIC50 values using standard scaling (z-score normalization)\n",
        "pic50_scaler = StandardScaler()\n",
        "y = pic50_scaler.fit_transform(y.reshape(-1, 1)).flatten()"
      ],
      "metadata": {
        "id": "7SbGGopmntrg"
      },
      "execution_count": null,
      "outputs": []
    },
    {
      "cell_type": "code",
      "source": [
        "from tensorflow.keras.models import load_model\n",
        "# Load the pretrained regression model\n",
        "regression_model = load_model('regression_model(100_epochs).h5')\n"
      ],
      "metadata": {
        "id": "n9mJ25Rqnz9q"
      },
      "execution_count": null,
      "outputs": []
    },
    {
      "cell_type": "code",
      "source": [
        "print(regression_model.summary())"
      ],
      "metadata": {
        "id": "QzD_9qqPn1XO"
      },
      "execution_count": null,
      "outputs": []
    },
    {
      "cell_type": "code",
      "source": [
        "# Use the encoded representations as input to the regression model for prediction\n",
        "predictions = regression_model.predict(X)\n"
      ],
      "metadata": {
        "colab": {
          "base_uri": "https://localhost:8080/"
        },
        "id": "cI892pvrn2xq",
        "outputId": "cb8febaa-cb89-42fd-911f-6fc9682a61bf"
      },
      "execution_count": null,
      "outputs": [
        {
          "output_type": "stream",
          "name": "stdout",
          "text": [
            "172/172 [==============================] - 9s 52ms/step\n"
          ]
        }
      ]
    },
    {
      "cell_type": "code",
      "source": [
        "import matplotlib.pyplot as plt\n",
        "\n",
        "# Assuming predictions is a numpy array containing the predicted values\n",
        "plt.plot(predictions, label='Predicted Values')\n",
        "plt.xlabel('DrugBank Smiles')\n",
        "plt.ylabel('Predicted Value')\n",
        "plt.title('Regression Model Predictions')\n",
        "plt.legend()\n",
        "plt.show()\n"
      ],
      "metadata": {
        "id": "FP4cQ6hqn4ds"
      },
      "execution_count": null,
      "outputs": []
    },
    {
      "cell_type": "code",
      "source": [
        "print(predictions)"
      ],
      "metadata": {
        "id": "Yxr7CFDOn5rD"
      },
      "execution_count": null,
      "outputs": []
    },
    {
      "cell_type": "code",
      "source": [
        "import pandas as pd\n",
        "\n",
        "# Assuming 'predictions' contains the predictions generated by your regression model\n",
        "\n",
        "# Create a DataFrame with your predictions\n",
        "predictions_df = pd.DataFrame(predictions, columns=['pIC50'])\n",
        "\n",
        "# Optionally, if you have corresponding input data or labels, you can include them in the DataFrame\n",
        "# For example, if 'input_data' contains the input data used for predictions\n",
        "# predictions_df['Input_Data_Column'] = input_data\n",
        "# If 'actual_labels' contain the actual labels (if available)\n",
        "# predictions_df['Actual_Labels'] = actual_labels\n",
        "\n",
        "# Save the DataFrame to a CSV file\n",
        "predictions_df.to_csv('regression_predictions_with_dummy_drugbank.csv', index=False)\n"
      ],
      "metadata": {
        "id": "UZ5M88lun62A"
      },
      "execution_count": null,
      "outputs": []
    },
    {
      "cell_type": "code",
      "source": [
        "import pandas as pd\n",
        "\n",
        "# Assuming 'predictions' contains the predictions generated by your regression model\n",
        "# Assuming 'data_drugbank' contains the SMILES strings\n",
        "\n",
        "# Create a DataFrame with your predictions\n",
        "predictions_df = pd.DataFrame(predictions, columns=['pIC50'])\n",
        "\n",
        "# Optionally, if you have corresponding input data or labels, you can include them in the DataFrame\n",
        "# For example, if 'input_data' contains the input data used for predictions\n",
        "# predictions_df['Input_Data_Column'] = input_data\n",
        "# If 'actual_labels' contain the actual labels (if available)\n",
        "# predictions_df['Actual_Labels'] = actual_labels\n",
        "\n",
        "# Assuming both DataFrames have the same index or a unique identifier column\n",
        "# Merge predictions_df with drugbank_data based on the index\n",
        "merged_df = data_drugbank.merge(predictions_df, left_index=True, right_index=True)\n",
        "\n",
        "# Save the merged DataFrame to a CSV file\n",
        "merged_df.to_csv('regression_predictions_with_dummy_drugbank.csv', index=False)\n"
      ],
      "metadata": {
        "id": "qW33Mv3Kn8Ld"
      },
      "execution_count": null,
      "outputs": []
    }
  ],
  "metadata": {
    "colab": {
      "provenance": []
    },
    "kernelspec": {
      "display_name": "Python 3",
      "name": "python3"
    },
    "language_info": {
      "name": "python"
    }
  },
  "nbformat": 4,
  "nbformat_minor": 0
}